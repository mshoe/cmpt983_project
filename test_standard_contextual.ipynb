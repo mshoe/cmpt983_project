{
 "cells": [
  {
   "cell_type": "code",
   "execution_count": 1,
   "id": "1466223c",
   "metadata": {},
   "outputs": [],
   "source": [
    "from util.bandit_util import StandardContextualArmAcquiringMachine\n",
    "from algorithms.eps_greedy import eps_greedy, decay_eps_greedy\n",
    "from algorithms.etc import etc\n",
    "from algorithms.ucb import ucb_basic, auer, ucb_AO, ucb_fast, ucb_faster, linucb\n",
    "import matplotlib.pyplot as plt\n",
    "import numpy as np\n",
    "\n",
    "%matplotlib inline"
   ]
  },
  {
   "cell_type": "code",
   "execution_count": 3,
   "id": "98e199c3",
   "metadata": {},
   "outputs": [],
   "source": [
    "num_rounds = 100000\n",
    "\n",
    "bandit_machine = StandardContextualArmAcquiringMachine()\n",
    "\n",
    "for i in range(1000):\n",
    "    bandit_machine.insert_arm(bandit_machine.generate_arm())\n",
    "    bandit_machine.insert_arm(bandit_machine.generate_arm())"
   ]
  },
  {
   "cell_type": "code",
   "execution_count": 4,
   "id": "0cf56af8",
   "metadata": {},
   "outputs": [
    {
     "name": "stdout",
     "output_type": "stream",
     "text": [
      "Running UCB tests\n",
      "trial: 0\n",
      "trial: 1\n",
      "trial: 2\n",
      "trial: 3\n",
      "trial: 4\n",
      "trial: 5\n",
      "trial: 6\n",
      "trial: 7\n",
      "trial: 8\n",
      "trial: 9\n"
     ]
    }
   ],
   "source": [
    "num_trials = 10\n",
    "# # UCB test\n",
    "print(\"Running UCB tests\")\n",
    "ucb_alg = ucb_basic(bandit_machine, num_rounds)\n",
    "ucb_regret, ucb_reward, ucb_exp_reward, ucb_best_exp_reward = ucb_alg.run_experiment(num_trials, num_rounds)\n"
   ]
  },
  {
   "cell_type": "code",
   "execution_count": 5,
   "id": "b9999d5d",
   "metadata": {},
   "outputs": [
    {
     "name": "stdout",
     "output_type": "stream",
     "text": [
      "Running UCB tests\n",
      "trial: 0\n",
      "trial: 1\n",
      "trial: 2\n",
      "trial: 3\n",
      "trial: 4\n",
      "trial: 5\n",
      "trial: 6\n",
      "trial: 7\n",
      "trial: 8\n",
      "trial: 9\n"
     ]
    }
   ],
   "source": [
    "num_trials = 10\n",
    "# # UCB test\n",
    "print(\"Running UCB tests\")\n",
    "linucb_alg = linucb(bandit_machine)\n",
    "linucb_regret, linucb_reward, linucb_exp_reward, linucb_best_exp_reward = linucb_alg.run_experiment(num_trials, num_rounds)\n"
   ]
  },
  {
   "cell_type": "code",
   "execution_count": 5,
   "id": "d6c2602a",
   "metadata": {},
   "outputs": [
    {
     "name": "stdout",
     "output_type": "stream",
     "text": [
      "Running UCB tests\n",
      "trial: 0\n",
      "trial: 1\n",
      "trial: 2\n",
      "trial: 3\n",
      "trial: 4\n",
      "trial: 5\n",
      "trial: 6\n",
      "trial: 7\n",
      "trial: 8\n",
      "trial: 9\n",
      "Running AUER tests\n",
      "trial: 0\n",
      "trial: 1\n",
      "trial: 2\n",
      "trial: 3\n",
      "trial: 4\n",
      "trial: 5\n",
      "trial: 6\n",
      "trial: 7\n",
      "trial: 8\n",
      "trial: 9\n",
      "Running UCB AO tests\n",
      "trial: 0\n",
      "trial: 1\n",
      "trial: 2\n",
      "trial: 3\n",
      "trial: 4\n",
      "trial: 5\n",
      "trial: 6\n",
      "trial: 7\n",
      "trial: 8\n",
      "trial: 9\n",
      "Running eps greedy tests\n",
      "trial: 0\n",
      "trial: 1\n",
      "trial: 2\n",
      "trial: 3\n",
      "trial: 4\n",
      "trial: 5\n",
      "trial: 6\n",
      "trial: 7\n",
      "trial: 8\n",
      "trial: 9\n",
      "Running decay eps greedy tests\n",
      "trial: 0\n",
      "trial: 1\n",
      "trial: 2\n",
      "trial: 3\n",
      "trial: 4\n",
      "trial: 5\n",
      "trial: 6\n",
      "trial: 7\n",
      "trial: 8\n",
      "trial: 9\n"
     ]
    }
   ],
   "source": [
    "# num_trials = 10\n",
    "# # # UCB test\n",
    "# print(\"Running UCB tests\")\n",
    "# ucb_alg = ucb_basic(bandit_machine, num_rounds)\n",
    "# ucb_regret, ucb_reward, ucb_exp_reward, ucb_best_exp_reward = ucb_alg.run_experiment(num_trials, num_rounds)\n",
    "\n",
    "# # # AUER test\n",
    "# print(\"Running AUER tests\")\n",
    "# auer_alg = auer(bandit_machine)\n",
    "# auer_regret, auer_reward, auer_exp_reward, auer_best_exp_reward = auer_alg.run_experiment(num_trials, num_rounds)\n",
    "\n",
    "# # # UCB - Asymptotically Optimal\n",
    "# print(\"Running UCB AO tests\")\n",
    "# ucbao_alg = ucb_AO(bandit_machine)\n",
    "# ucbao_regret, ucbao_reward, ucbao_exp_reward, ucbao_best_exp_reward = ucbao_alg.run_experiment(num_trials, num_rounds)\n",
    "\n",
    "# # # eps-greedy test\n",
    "# print(\"Running eps greedy tests\")\n",
    "# initial_eps = 1.0\n",
    "# epsg_alg = eps_greedy(bandit_machine, initial_eps)\n",
    "# epsg_regret, epsg_reward, epsg_exp_reward, epsg_best_exp_reward = epsg_alg.run_experiment(num_trials, num_rounds)\n",
    "\n",
    "# # decay eps-greedy test\n",
    "# print(\"Running decay eps greedy tests\")\n",
    "# decay_factor = 0.99\n",
    "# depsg_alg = decay_eps_greedy(bandit_machine, initial_eps, decay_factor)\n",
    "# depsg_regret, depsg_reward, depsg_exp_reward, depsg_best_exp_reward = depsg_alg.run_experiment(num_trials, num_rounds)"
   ]
  },
  {
   "cell_type": "code",
   "execution_count": 6,
   "id": "18e1f5fe",
   "metadata": {},
   "outputs": [
    {
     "name": "stdout",
     "output_type": "stream",
     "text": [
      "Running UCB Fast tests\n",
      "trial: 0\n",
      "trial: 1\n",
      "trial: 2\n",
      "trial: 3\n",
      "trial: 4\n",
      "trial: 5\n",
      "trial: 6\n",
      "trial: 7\n",
      "trial: 8\n",
      "trial: 9\n",
      "Running UCB Fast tests\n",
      "trial: 0\n"
     ]
    },
    {
     "name": "stderr",
     "output_type": "stream",
     "text": [
      "/Users/chiragvashist/Desktop/cmpt983_project/algorithms/ucb.py:231: RuntimeWarning: overflow encountered in double_scalars\n",
      "  U[a] = mu[a] + (std_coeff / (np.sqrt(N[a]))**self._power)\n"
     ]
    },
    {
     "name": "stdout",
     "output_type": "stream",
     "text": [
      "trial: 1\n",
      "trial: 2\n",
      "trial: 3\n",
      "trial: 4\n",
      "trial: 5\n",
      "trial: 6\n",
      "trial: 7\n",
      "trial: 8\n",
      "trial: 9\n",
      "trial: 0\n",
      "trial: 1\n",
      "trial: 2\n",
      "trial: 3\n",
      "trial: 4\n",
      "trial: 5\n",
      "trial: 6\n",
      "trial: 7\n",
      "trial: 8\n",
      "trial: 9\n"
     ]
    }
   ],
   "source": [
    "# # UCB_fast - Asymptotically Optimal\n",
    "# print(\"Running UCB Fast tests\")\n",
    "# ucbfast_algo = ucb_fast(bandit_machine,power=5)\n",
    "# ucbfast_regret, ucbfast_reward, ucbfast_exp_reward, ucbfast_best_exp_reward = ucbfast_algo.run_experiment(num_trials, num_rounds)\n",
    "\n",
    "# print(\"Running UCB Fast tests\")\n",
    "# ucbfaster_algo = ucb_faster(bandit_machine)\n",
    "# ucbfaster_regret, ucbfaster_reward, ucbfaster_exp_reward, ucbfaster_best_exp_reward = ucbfaster_algo.run_experiment(num_trials, num_rounds)\n",
    "\n",
    "\n",
    "# # etc\n",
    "# explore_rounds = 10\n",
    "# etc_alg = etc(bandit_machine, explore_rounds)\n",
    "# etc_regret, etc_reward, etc_exp_reward, etc_best_exp_reward = etc_alg.run_experiment(num_trials, num_rounds)"
   ]
  },
  {
   "cell_type": "code",
   "execution_count": 6,
   "id": "6012cd8a",
   "metadata": {},
   "outputs": [
    {
     "data": {
      "image/png": "[encoded data removed]",
      "text/plain": [
       "<Figure size 432x288 with 1 Axes>"
      ]
     },
     "metadata": {
      "needs_background": "light"
     },
     "output_type": "display_data"
    }
   ],
   "source": [
    "plt.plot(ucb_regret, 'b', label=\"ucb\")\n",
    "# plt.plot(auer_regret, 'purple', label=\"auer\")\n",
    "# plt.plot(ucbao_regret, 'orange', label=\"ucb-ao\")\n",
    "# plt.plot(epsg_regret, 'r', label=\"eps-greedy\")\n",
    "# plt.plot(ucbfast_regret, 'teal', label=\"ucb-fast\")\n",
    "plt.plot(linucb_regret, 'black', label=\"lin-ucb\")\n",
    "# plt.plot(depsg_regret, 'g', label=\"decay-eps-greedy\")\n",
    "# plt.plot(etc_regret, 'pink', label=\"etc-10\")\n",
    "\n",
    "plt.xlabel('t')\n",
    "plt.ylabel('Regret')\n",
    "plt.title('Regret vs t')\n",
    "plt.legend()\n",
    "plt.grid(True)\n",
    "plt.show()"
   ]
  }
 ],
 "metadata": {
  "kernelspec": {
   "display_name": "Python 3 (ipykernel)",
   "language": "python",
   "name": "python3"
  },
  "language_info": {
   "codemirror_mode": {
    "name": "ipython",
    "version": 3
   },
   "file_extension": ".py",
   "mimetype": "text/x-python",
   "name": "python",
   "nbconvert_exporter": "python",
   "pygments_lexer": "ipython3",
   "version": "3.9.12"
  }
 },
 "nbformat": 4,
 "nbformat_minor": 5
}
